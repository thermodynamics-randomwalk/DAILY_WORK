{
 "cells": [
  {
   "cell_type": "code",
   "execution_count": 2,
   "metadata": {},
   "outputs": [],
   "source": [
    "import pandas as pd\n",
    "import numpy as np\n",
    "import matplotlib.pyplot as plt\n",
    "import os\n",
    "import re\n",
    "import shutil\n",
    "from datetime import datetime\n",
    "from datetime import timedelta\n",
    "import time"
   ]
  },
  {
   "cell_type": "code",
   "execution_count": 39,
   "metadata": {},
   "outputs": [],
   "source": [
    "os.getcwd()\n",
    "os.chdir('C:\\\\Users\\\\Administrator\\\\Desktop\\\\后评价疫情相关名单')"
   ]
  },
  {
   "cell_type": "code",
   "execution_count": 40,
   "metadata": {},
   "outputs": [],
   "source": [
    "'''对债项信息做整理'''\n",
    "debtdata=pd.read_csv('数据.csv',sep='\\t')\n",
    "debtdata.loc[:,'报告期']=pd.to_datetime(debtdata.loc[:,'报告期'])\n",
    "debtdata.loc[:,'债项开始日期']=pd.to_datetime(debtdata.loc[:,'债项开始日期'])\n",
    "debtdata.loc[:,'债项结束日期']=pd.to_datetime(debtdata.loc[:,'债项结束日期'])\n",
    "\n",
    "debtdata.sort_values(by=['债项编号','报告期'],ascending=[True,True],inplace=True) #按照债项（或债项开始时间）以及报告期进行排序\n",
    "debtdata.drop_duplicates(['债项编号'],keep='first',inplace=True) #按照债项编号删除重复值\n",
    "\n",
    "writer=pd.ExcelWriter('疫情相关投放情况.xlsx')\n",
    "debtdata.to_excel(writer,'Sheet1')\n",
    "writer.save()"
   ]
  },
  {
   "cell_type": "code",
   "execution_count": 41,
   "metadata": {},
   "outputs": [],
   "source": [
    "'''对审批信息做整理'''\n",
    "approvaldata=pd.read_excel('后评价疫情相关名单数据.xlsx',parse_dates=True)\n",
    "approvaldata.drop_duplicates(['业务编号'],inplace=True) #按照业务编号删除重复值"
   ]
  },
  {
   "cell_type": "code",
   "execution_count": 42,
   "metadata": {},
   "outputs": [],
   "source": [
    "'''对债项以及审批信息做合并筛选'''\n",
    "megdata=pd.merge(debtdata,approvaldata,on='客户编号',how='left',suffixes=['_债项','_额度'])\n",
    "megdata=megdata.loc[megdata['债项开始日期']>=megdata['批复日期'],:]\n",
    "\n",
    "writer=pd.ExcelWriter('疫情审批后投放情况.xlsx')\n",
    "megdata.to_excel(writer,'Sheet1')\n",
    "writer.save()"
   ]
  }
 ],
 "metadata": {
  "kernelspec": {
   "display_name": "Python 3",
   "language": "python",
   "name": "python3"
  },
  "language_info": {
   "codemirror_mode": {
    "name": "ipython",
    "version": 3
   },
   "file_extension": ".py",
   "mimetype": "text/x-python",
   "name": "python",
   "nbconvert_exporter": "python",
   "pygments_lexer": "ipython3",
   "version": "3.7.3"
  }
 },
 "nbformat": 4,
 "nbformat_minor": 2
}
