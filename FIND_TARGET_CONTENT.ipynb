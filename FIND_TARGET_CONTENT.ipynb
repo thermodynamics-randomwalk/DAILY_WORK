{
 "cells": [
  {
   "cell_type": "code",
   "execution_count": 1,
   "metadata": {},
   "outputs": [],
   "source": [
    "import pandas as pd\n",
    "import numpy as np\n",
    "import matplotlib.pyplot as plt\n",
    "import os \n",
    "import re\n",
    "import shutil\n",
    "import time\n",
    "from datetime import datetime\n",
    "from datetime import timedelta\n",
    "import pyautogui"
   ]
  },
  {
   "cell_type": "code",
   "execution_count": 48,
   "metadata": {},
   "outputs": [
    {
     "data": {
      "text/plain": [
       "客户编号    新希望六和股份有限公司\n",
       "Name: 1, dtype: object"
      ]
     },
     "execution_count": 48,
     "metadata": {},
     "output_type": "execute_result"
    }
   ],
   "source": [
    "os.chdir('C:\\\\Users\\\\Administrator\\\\Desktop')\n",
    "datasource=pd.read_excel('额度统计结果.xlsx',parse_dates=True)\n",
    "data=datasource.loc[:,['客户编号','业务编号_变更业务']]\n",
    "data.loc[1,['客户编号']]"
   ]
  },
  {
   "cell_type": "code",
   "execution_count": 46,
   "metadata": {},
   "outputs": [
    {
     "data": {
      "text/plain": [
       "[Box(left=225, top=511, width=14, height=22),\n",
       " Box(left=225, top=561, width=14, height=22),\n",
       " Box(left=225, top=611, width=14, height=22),\n",
       " Box(left=225, top=661, width=14, height=22)]"
      ]
     },
     "execution_count": 46,
     "metadata": {},
     "output_type": "execute_result"
    }
   ],
   "source": [
    "center=[]\n",
    "locate=pyautogui.locateAllOnScreen(\n",
    "    'C:\\\\Users\\\\Administrator\\\\Desktop\\\\新一代相关控件截图\\\\额度综合查询页面\\\\选择对应客户.PNG')\n",
    "for i in locate:\n",
    "    center.append(i)\n",
    "center"
   ]
  },
  {
   "cell_type": "code",
   "execution_count": 47,
   "metadata": {},
   "outputs": [],
   "source": [
    "pyautogui.moveTo(pyautogui.center(center[0]))"
   ]
  },
  {
   "cell_type": "code",
   "execution_count": 66,
   "metadata": {},
   "outputs": [],
   "source": [
    "cust_nam=pyautogui.locateAllOnScreen(\n",
    "    'C:\\\\Users\\\\Administrator\\\\Desktop\\\\新一代相关控件截图\\\\额度综合查询页面\\\\客户编号查询.PNG')\n",
    "cust_nam=list(cust_nam)\n",
    "cust_nam_center=pyautogui.center(cust_nam[0])\n",
    "pyautogui.click(cust_nam_center[0]+50,cust_nam_center[1])"
   ]
  },
  {
   "cell_type": "code",
   "execution_count": 29,
   "metadata": {},
   "outputs": [
    {
     "name": "stdout",
     "output_type": "stream",
     "text": [
      "a_list\n",
      "b_list\n",
      "c_list\n",
      "d_list\n"
     ]
    },
    {
     "data": {
      "text/plain": [
       "['a_list', 'b_list', 'c_list', 'd_list']"
      ]
     },
     "execution_count": 29,
     "metadata": {},
     "output_type": "execute_result"
    }
   ],
   "source": [
    "list_catalog=[]\n",
    "for i in list('abcd'):\n",
    "    ls='{}_list'.format(str(i))\n",
    "    print(ls)\n",
    "    list_catalog.append(ls)\n",
    "list_catalog"
   ]
  },
  {
   "cell_type": "code",
   "execution_count": 30,
   "metadata": {},
   "outputs": [],
   "source": [
    "list_dic={i:[] for i in list_catalog}"
   ]
  },
  {
   "cell_type": "code",
   "execution_count": 31,
   "metadata": {},
   "outputs": [],
   "source": [
    "for key in list_dic:\n",
    "    for i in range(1,5):\n",
    "         list_dic[key].append(i)"
   ]
  },
  {
   "cell_type": "code",
   "execution_count": 32,
   "metadata": {},
   "outputs": [
    {
     "data": {
      "text/plain": [
       "{'a_list': [1, 2, 3, 4],\n",
       " 'b_list': [1, 2, 3, 4],\n",
       " 'c_list': [1, 2, 3, 4],\n",
       " 'd_list': [1, 2, 3, 4]}"
      ]
     },
     "execution_count": 32,
     "metadata": {},
     "output_type": "execute_result"
    }
   ],
   "source": [
    "list_dic"
   ]
  },
  {
   "cell_type": "code",
   "execution_count": 37,
   "metadata": {},
   "outputs": [
    {
     "name": "stdout",
     "output_type": "stream",
     "text": [
      "请输入对应填写日期，格式为：2020/6/152020/6/15\n"
     ]
    },
    {
     "data": {
      "text/plain": [
       "datetime.date(2020, 6, 15)"
      ]
     },
     "execution_count": 37,
     "metadata": {},
     "output_type": "execute_result"
    }
   ],
   "source": [
    "datetime.date(datetime.strptime(input('请输入对应填写日期，格式为：2020/6/15'),'%Y/%m/%d'))"
   ]
  },
  {
   "cell_type": "code",
   "execution_count": null,
   "metadata": {},
   "outputs": [],
   "source": []
  }
 ],
 "metadata": {
  "kernelspec": {
   "display_name": "Python 3",
   "language": "python",
   "name": "python3"
  },
  "language_info": {
   "codemirror_mode": {
    "name": "ipython",
    "version": 3
   },
   "file_extension": ".py",
   "mimetype": "text/x-python",
   "name": "python",
   "nbconvert_exporter": "python",
   "pygments_lexer": "ipython3",
   "version": "3.7.3"
  }
 },
 "nbformat": 4,
 "nbformat_minor": 2
}
